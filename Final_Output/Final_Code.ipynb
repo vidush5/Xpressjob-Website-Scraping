{
 "cells": [
  {
   "cell_type": "code",
   "execution_count": 203,
   "metadata": {},
   "outputs": [],
   "source": [
    "from selenium import webdriver\n",
    "import pandas as pd\n",
    "from bs4 import BeautifulSoup\n",
    "import requests\n",
    "import time"
   ]
  },
  {
   "cell_type": "code",
   "execution_count": 204,
   "metadata": {},
   "outputs": [],
   "source": [
    "driver = webdriver.Chrome(\"D:/chromedriver_win32/chromedriver.exe\")"
   ]
  },
  {
   "cell_type": "code",
   "execution_count": 205,
   "metadata": {},
   "outputs": [],
   "source": [
    "dataframe = pd.DataFrame(columns=[\"position\",\"company\",\"location\",\"overview\",\"deadline\",\"url\",\"job description\"])"
   ]
  },
  {
   "cell_type": "code",
   "execution_count": 206,
   "metadata": {},
   "outputs": [],
   "source": [
    "df = pd.DataFrame(columns=[\"images\"])"
   ]
  },
  {
   "cell_type": "code",
   "execution_count": 207,
   "metadata": {},
   "outputs": [],
   "source": [
    "pages = 8\n",
    "\n",
    "for page in range(1,pages):\n",
    "    \n",
    "    url = \"https://xpress.jobs/jobs?page=\" + str(page) + \"&Sectors=30\"\n",
    "\n",
    "    driver.get(url) \n",
    "    time.sleep(10)\n",
    "    \n",
    "    all_jobs = driver.find_elements_by_class_name('job_listing')\n",
    "        \n",
    "    for job in all_jobs:\n",
    "        \n",
    "        result_html = job.get_attribute('innerHTML')\n",
    "        soup = BeautifulSoup(result_html, 'html.parser')\n",
    "        \n",
    "        try:\n",
    "            position = job.find_element_by_class_name('job_listing-title').text\n",
    "        except:\n",
    "            position = 'None'\n",
    "            \n",
    "        try:\n",
    "            company = soup.find(class_=\"job_listing-company\").text.replace(\"\\n\",\"\").strip()\n",
    "        except:\n",
    "            company = 'None'\n",
    "            \n",
    "        try:\n",
    "            location = driver.find_element_by_xpath('//*[@id=\"job_listing-3354\"]/div[2]/div[1]/div[2]').text\n",
    "        except:\n",
    "            location = 'None'\n",
    "\n",
    "        try:\n",
    "            overview = job.find_element_by_class_name('job_listing-overview').text\n",
    "        except:\n",
    "            overview = 'None'\n",
    "            \n",
    "        try:\n",
    "            deadline = job.find_element_by_class_name('date').text\n",
    "        except:\n",
    "            deadline = 'None'\n",
    "            \n",
    "    \n",
    "        link = soup.find('a',{'class':'job_listing-clickbox'})\n",
    "        if link.get('href'):\n",
    "            url = link.get('href').replace('../','https://xpress.jobs/')\n",
    "            job_response = requests.get(url)\n",
    "            job_data = job_response.text\n",
    "            job_soup = BeautifulSoup(job_data, 'html.parser')\n",
    "            job_description = job_soup.find('div',{'class':'job-description'}).text.replace(\"\\n\",\"\").strip()\n",
    "            i = 0\n",
    "            for img in job_soup.findAll('img',attrs={'class':'alignnone size-full'}):\n",
    "                image_temp = img.get('src')\n",
    "               \n",
    "        dataframe = dataframe.append({'position':position,\"company\":company,'location':location,\"overview\":overview,\"deadline\":deadline,\"url\":url,\"job description\":job_description},ignore_index=True)\n",
    "        \n",
    "        df = df.append({'images':image_temp},ignore_index=True)"
   ]
  },
  {
   "cell_type": "code",
   "execution_count": 208,
   "metadata": {},
   "outputs": [],
   "source": [
    "dataframe.to_csv(\"D:/chromedriver_win32/Output.csv\",index=False)\n",
    "df.to_csv(\"D:/chromedriver_win32/Images.csv\",index=False)"
   ]
  },
  {
   "cell_type": "code",
   "execution_count": 209,
   "metadata": {},
   "outputs": [
    {
     "data": {
      "text/plain": [
       "(64, 7)"
      ]
     },
     "execution_count": 209,
     "metadata": {},
     "output_type": "execute_result"
    }
   ],
   "source": [
    "dataframe.shape"
   ]
  },
  {
   "cell_type": "code",
   "execution_count": 210,
   "metadata": {},
   "outputs": [
    {
     "data": {
      "text/plain": [
       "(64, 1)"
      ]
     },
     "execution_count": 210,
     "metadata": {},
     "output_type": "execute_result"
    }
   ],
   "source": [
    "df.shape"
   ]
  },
  {
   "cell_type": "code",
   "execution_count": null,
   "metadata": {},
   "outputs": [],
   "source": []
  }
 ],
 "metadata": {
  "kernelspec": {
   "display_name": "Python 3",
   "language": "python",
   "name": "python3"
  },
  "language_info": {
   "codemirror_mode": {
    "name": "ipython",
    "version": 3
   },
   "file_extension": ".py",
   "mimetype": "text/x-python",
   "name": "python",
   "nbconvert_exporter": "python",
   "pygments_lexer": "ipython3",
   "version": "3.7.6"
  }
 },
 "nbformat": 4,
 "nbformat_minor": 4
}
