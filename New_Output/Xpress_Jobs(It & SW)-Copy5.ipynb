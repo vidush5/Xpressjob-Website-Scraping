{
 "cells": [
  {
   "cell_type": "code",
   "execution_count": 10,
   "metadata": {},
   "outputs": [],
   "source": [
    "from selenium import webdriver\n",
    "import pandas as pd\n",
    "from bs4 import BeautifulSoup"
   ]
  },
  {
   "cell_type": "code",
   "execution_count": 11,
   "metadata": {},
   "outputs": [],
   "source": [
    "driver = webdriver.Chrome(\"D:/chromedriver_win32/chromedriver.exe\")"
   ]
  },
  {
   "cell_type": "code",
   "execution_count": 12,
   "metadata": {},
   "outputs": [],
   "source": [
    "dataframe = pd.DataFrame(columns=[\"position\",\"company\",\"location\",\"overview\",\"deadline\",\"url\"])"
   ]
  },
  {
   "cell_type": "code",
   "execution_count": 13,
   "metadata": {},
   "outputs": [],
   "source": [
    "pages = 8\n",
    "\n",
    "for page in range(1,pages):\n",
    "    \n",
    "    url = \"https://xpress.jobs/jobs?page=\" + str(page) + \"&Sectors=30\"\n",
    "\n",
    "    driver.get(url)\n",
    "    driver.implicitly_wait(10) \n",
    "    \n",
    "    all_jobs = driver.find_elements_by_class_name('job_listing-about')\n",
    "        \n",
    "    for job in all_jobs:\n",
    "        \n",
    "        result_html = job.get_attribute('innerHTML')\n",
    "        soup = BeautifulSoup(result_html, 'html.parser')\n",
    "        \n",
    "        try:\n",
    "            position = job.find_element_by_class_name('job_listing-title').text\n",
    "        except:\n",
    "            position = 'None'\n",
    "            \n",
    "        try:\n",
    "            company = soup.find(class_=\"job_listing-company\").text.replace(\"\\n\",\"\").strip()\n",
    "        except:\n",
    "            company = 'None'\n",
    "            \n",
    "        try:\n",
    "            location = driver.find_element_by_xpath('//*[@id=\"job_listing-3354\"]/div[2]/div[1]/div[2]').text\n",
    "        except:\n",
    "            location = 'None'\n",
    "\n",
    "        try:\n",
    "            overview = job.find_element_by_class_name('job_listing-overview').text\n",
    "        except:\n",
    "            overview = 'None'\n",
    "            \n",
    "        try:\n",
    "            deadline = job.find_element_by_class_name('date').text\n",
    "        except:\n",
    "            deadline = 'None'\n",
    "            \n",
    "        try:\n",
    "            url = driver.find_element_by_xpath('//*[@id=\"job_listing-3354\"]/a').get_attribute('href')\n",
    "        except:\n",
    "            url = 'None'\n",
    "        \n",
    "        dataframe = dataframe.append({'position':position,\"company\":company,'location':location,\"overview\":overview,\"deadline\":deadline,\"url\":url},ignore_index=True)\n",
    "        "
   ]
  },
  {
   "cell_type": "code",
   "execution_count": 14,
   "metadata": {},
   "outputs": [],
   "source": [
    "dataframe.to_csv(\"D:/chromedriver_win32/output.csv\",index=False)"
   ]
  }
 ],
 "metadata": {
  "kernelspec": {
   "display_name": "Python 3",
   "language": "python",
   "name": "python3"
  },
  "language_info": {
   "codemirror_mode": {
    "name": "ipython",
    "version": 3
   },
   "file_extension": ".py",
   "mimetype": "text/x-python",
   "name": "python",
   "nbconvert_exporter": "python",
   "pygments_lexer": "ipython3",
   "version": "3.7.6"
  }
 },
 "nbformat": 4,
 "nbformat_minor": 4
}
