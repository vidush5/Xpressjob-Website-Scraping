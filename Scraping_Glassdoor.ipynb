{
 "cells": [
  {
   "cell_type": "code",
   "execution_count": 1,
   "metadata": {},
   "outputs": [],
   "source": [
    "from selenium import webdriver\n",
    "import pandas as pd\n",
    "from bs4 import BeautifulSoup"
   ]
  },
  {
   "cell_type": "code",
   "execution_count": 2,
   "metadata": {},
   "outputs": [],
   "source": [
    "driver = webdriver.Chrome(\"./chromedriver\")"
   ]
  },
  {
   "cell_type": "code",
   "execution_count": 3,
   "metadata": {},
   "outputs": [],
   "source": [
    "dataframe = pd.DataFrame(columns=[\"Job Title\",\"Location\",\"Company Name\",\"Job Description\"])"
   ]
  },
  {
   "cell_type": "code",
   "execution_count": 4,
   "metadata": {},
   "outputs": [],
   "source": [
    "driver.get(\"https://www.glassdoor.com/Job/colombo-data-science-jobs-SRCH_IL.0,7_IC2651418_KO8,20.htm?srs=RECENT_SEARCHES\")\n",
    "driver.maximize_window() \n",
    "driver.implicitly_wait(20) "
   ]
  },
  {
   "cell_type": "code",
   "execution_count": 23,
   "metadata": {},
   "outputs": [],
   "source": [
    "job_title = driver.find_element_by_xpath('.//div[contains(@class, \"title\")]')"
   ]
  },
  {
   "cell_type": "code",
   "execution_count": 32,
   "metadata": {},
   "outputs": [
    {
     "data": {
      "text/plain": [
       "'Engineer, Analytics & Data Science'"
      ]
     },
     "execution_count": 32,
     "metadata": {},
     "output_type": "execute_result"
    }
   ],
   "source": [
    "job_title.text"
   ]
  },
  {
   "cell_type": "code",
   "execution_count": 25,
   "metadata": {},
   "outputs": [],
   "source": [
    "job_description = driver.find_element_by_xpath('.//div[@class=\"jobDescriptionContent desc\"]').text"
   ]
  },
  {
   "cell_type": "code",
   "execution_count": 26,
   "metadata": {},
   "outputs": [
    {
     "data": {
      "text/plain": [
       "'Role Profile\\n\\nReporting into the Head of Operational Analytics, in the COO of LSE plc and Head of Client and Market Services organisation, the focus of this role will be to help analyse by gathering and cleaning all sources of Operational Data with an objective to bring about more stability and operational efficiencies and effectiveness for LSE Plc.\\n\\nResponsibilities\\nCollecting necessary operational data for improving stability, reducing operational risk and improving efficiencies and effectiveness.\\nEnsuring that appropriate technology is instrumented for analytics. These include access to current systems whilst extracting and consuming provided data sets.\\nPublishing periodic reports, pattern recognition working with infrastructure and development support to influence and prioritise opportunities to improve availability.\\nHands on analytical capabilities and understanding of basic principles of data, statistics and mathematics.\\nKey Behaviours and Skills\\nDegree in Statistics / Mathematics / Computer Science.\\n1- 2 Years of working experience in a similar capacity\\nExperience in working within a Big Data / Machine Learning setting\\nHands on knowledge and use of industry leading tools like Microsoft Power BI.\\nHands on knowledge of use of Elasticsearch, Logstash, Kibana etc.\\nUse of libraries such as d3.js.\\nPython , SPL & No SQL programming\\nUnderstanding of emerging technologies – specifically – visualisation, NLP, correlations. Learning, AI etc.\\nUnderstanding of ITSM\\nUnderstanding Capital Markets, general financial markets, operations or technology.\\nKnowledge of the regulatory requirements and other international, relevant, regulatory development.\\nAbility to meet strict deadlines in a fast-paced environment.\\nGood communication/relationship building skill.\\nAbility to deploy resources as appropriate/required based on requirement.\\nAbility to work on own initiative to provide solutions.\\nExcellent organisational and time management skills.\\nStrong analytical skills.\\nAbility to be flexible and adaptable to new and changing responsibilities.\\nContinuous improvement, training and development.\\nWillingness to learn and adapt knowledge base to different product areas/skills.\\nManagement and motivational skills.\\nFlexibility with working hours (cross time zones).\\nAble to manage multiple stakeholders with potential conflicting views\\nPeople are at the heart of what we do and drive the success of our business. Our colleagues thrive personally and professionally through our shared values of Integrity, Partnership, Innovation and Excellence are at the core of our culture. We embrace diversity and actively seek to attract people with unique backgrounds and perspectives. We are always looking at ways to become more agile so we meet the needs of our teams and customers. We believe that an inclusive collaborative workplace is pivotal to our success and supports the potential and growth of all colleagues at LSEG.\\n\\nA career with London Stock Exchange Group offers you the opportunity to be at the centre of the financial community. As well as competitive salaries and a range of attractive benefits, we maximise each employee’s potential through personal development plans, training, coaching and mentoring.\\n\\nPlease take a moment to read this privacy notice carefully, as it describes what personal information the London Stock Exchange Group (“We”) may hold about you, what it’s used for, and how it’s obtained. If you would like this information to be removed from the London Stock Exchange Group HR database, please contact workday@lseg.com. If you choose to have your information removed, you will be removed as a candidate and we will not be able to progress your application for opportunities at the London Stock Exchange Group.'"
      ]
     },
     "execution_count": 26,
     "metadata": {},
     "output_type": "execute_result"
    }
   ],
   "source": [
    "job_description"
   ]
  },
  {
   "cell_type": "code",
   "execution_count": 27,
   "metadata": {},
   "outputs": [],
   "source": [
    "location = driver.find_element_by_xpath('.//div[@class=\"location\"]').text"
   ]
  },
  {
   "cell_type": "code",
   "execution_count": 28,
   "metadata": {},
   "outputs": [
    {
     "data": {
      "text/plain": [
       "'Colombo'"
      ]
     },
     "execution_count": 28,
     "metadata": {},
     "output_type": "execute_result"
    }
   ],
   "source": [
    "location"
   ]
  },
  {
   "cell_type": "code",
   "execution_count": 29,
   "metadata": {},
   "outputs": [],
   "source": [
    "company_name = driver.find_element_by_xpath('.//div[@class=\"employerName\"]').text"
   ]
  },
  {
   "cell_type": "code",
   "execution_count": 30,
   "metadata": {},
   "outputs": [
    {
     "data": {
      "text/plain": [
       "'London Stock Exchange Group\\n3.1'"
      ]
     },
     "execution_count": 30,
     "metadata": {},
     "output_type": "execute_result"
    }
   ],
   "source": [
    "company_name"
   ]
  }
 ],
 "metadata": {
  "kernelspec": {
   "display_name": "Python 3",
   "language": "python",
   "name": "python3"
  },
  "language_info": {
   "codemirror_mode": {
    "name": "ipython",
    "version": 3
   },
   "file_extension": ".py",
   "mimetype": "text/x-python",
   "name": "python",
   "nbconvert_exporter": "python",
   "pygments_lexer": "ipython3",
   "version": "3.7.6"
  }
 },
 "nbformat": 4,
 "nbformat_minor": 4
}
