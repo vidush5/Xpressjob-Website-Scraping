{
 "cells": [
  {
   "cell_type": "markdown",
   "metadata": {},
   "source": [
    "import numpy as np\n",
    "# ^^^ pyforest auto-imports - don't write above this line\n",
    "# Set up"
   ]
  },
  {
   "cell_type": "code",
   "execution_count": 67,
   "metadata": {},
   "outputs": [],
   "source": [
    "# load packages\n",
    "import requests\n",
    "from bs4 import BeautifulSoup"
   ]
  },
  {
   "cell_type": "code",
   "execution_count": 68,
   "metadata": {},
   "outputs": [],
   "source": [
    "# Define the URL of the site\n",
    "base_site = \"https://xpress.jobs/Jobs/sector/it\""
   ]
  },
  {
   "cell_type": "code",
   "execution_count": 69,
   "metadata": {},
   "outputs": [
    {
     "data": {
      "text/plain": [
       "200"
      ]
     },
     "execution_count": 69,
     "metadata": {},
     "output_type": "execute_result"
    }
   ],
   "source": [
    "# sending a request to the webpage\n",
    "response = requests.get(base_site)\n",
    "response.status_code"
   ]
  },
  {
   "cell_type": "code",
   "execution_count": 70,
   "metadata": {},
   "outputs": [],
   "source": [
    "# get the HTML from the webpage\n",
    "html = response.content"
   ]
  },
  {
   "cell_type": "markdown",
   "metadata": {},
   "source": [
    "# Choosing a Parser"
   ]
  },
  {
   "cell_type": "markdown",
   "metadata": {},
   "source": [
    "# html.parser"
   ]
  },
  {
   "cell_type": "code",
   "execution_count": 210,
   "metadata": {},
   "outputs": [],
   "source": [
    "# convert the HTML to a Beautiful Soup object\n",
    "soup = BeautifulSoup(html, 'html.parser')"
   ]
  },
  {
   "cell_type": "code",
   "execution_count": 211,
   "metadata": {},
   "outputs": [],
   "source": [
    "# Exporting the HTML to a file\n",
    "with open('Xpress_job_sector_it_HTML_Parser.html', 'wb') as file:\n",
    "    file.write(soup.prettify('utf-8'))"
   ]
  },
  {
   "cell_type": "code",
   "execution_count": 212,
   "metadata": {},
   "outputs": [],
   "source": [
    "# Find all div tags on the webpage ctaining the information we want to scrape\n",
    "divs = soup.find_all(\"div\", {\"class\": \"job_listing-about\"})"
   ]
  },
  {
   "cell_type": "code",
   "execution_count": 213,
   "metadata": {},
   "outputs": [],
   "source": [
    "# Extracting all 'h3' tags\n",
    "titles = [div.find(\"h3\") for div in divs]"
   ]
  },
  {
   "cell_type": "code",
   "execution_count": 214,
   "metadata": {},
   "outputs": [],
   "source": [
    "# Inspecting the text inside the headings\n",
    "titles = [title.text for title in titles]"
   ]
  },
  {
   "cell_type": "code",
   "execution_count": 215,
   "metadata": {},
   "outputs": [],
   "source": [
    "companies = [div.find(\"strong\") for div in divs]"
   ]
  },
  {
   "cell_type": "code",
   "execution_count": 216,
   "metadata": {},
   "outputs": [],
   "source": [
    "# Inspecting the text inside the headings\n",
    "companies = [company.text for company in companies]"
   ]
  },
  {
   "cell_type": "code",
   "execution_count": 217,
   "metadata": {},
   "outputs": [],
   "source": [
    "links = soup.find_all(class_ ='job_listing-clickbox')"
   ]
  },
  {
   "cell_type": "code",
   "execution_count": 218,
   "metadata": {},
   "outputs": [
    {
     "name": "stdout",
     "output_type": "stream",
     "text": [
      "../../Jobs/View/58717?Sectors=30\n",
      "../../Jobs/View/58298?Sectors=30\n",
      "../../Jobs/View/59010?Sectors=30\n",
      "../../Jobs/View/54318?Sectors=30\n",
      "../../Jobs/View/53018?Sectors=30\n",
      "../../Jobs/View/52412?Sectors=30\n",
      "../../Jobs/View/59009?Sectors=30\n",
      "../../Jobs/View/59008?Sectors=30\n",
      "../../Jobs/View/58977?Sectors=30\n",
      "../../Jobs/View/58976?Sectors=30\n"
     ]
    }
   ],
   "source": [
    "for link in links:\n",
    "    print(link['href'])"
   ]
  },
  {
   "cell_type": "code",
   "execution_count": 219,
   "metadata": {},
   "outputs": [
    {
     "name": "stdout",
     "output_type": "stream",
     "text": [
      "https://xpress.jobs/Jobs/sector/it../../Jobs/View/58717?Sectors=30\n",
      "https://xpress.jobs/Jobs/sector/it../../Jobs/View/58298?Sectors=30\n",
      "https://xpress.jobs/Jobs/sector/it../../Jobs/View/59010?Sectors=30\n",
      "https://xpress.jobs/Jobs/sector/it../../Jobs/View/54318?Sectors=30\n",
      "https://xpress.jobs/Jobs/sector/it../../Jobs/View/53018?Sectors=30\n",
      "https://xpress.jobs/Jobs/sector/it../../Jobs/View/52412?Sectors=30\n",
      "https://xpress.jobs/Jobs/sector/it../../Jobs/View/59009?Sectors=30\n",
      "https://xpress.jobs/Jobs/sector/it../../Jobs/View/59008?Sectors=30\n",
      "https://xpress.jobs/Jobs/sector/it../../Jobs/View/58977?Sectors=30\n",
      "https://xpress.jobs/Jobs/sector/it../../Jobs/View/58976?Sectors=30\n"
     ]
    }
   ],
   "source": [
    "for li in soup.find_all(class_ ='job_listing-clickbox'):\n",
    "    if not li['href'].startswith('http'):\n",
    "        li = base_site + li['href']\n",
    "    else:\n",
    "        li = li['href']\n",
    "        \n",
    "    print(li)"
   ]
  },
  {
   "cell_type": "code",
   "execution_count": 220,
   "metadata": {},
   "outputs": [],
   "source": [
    "import pandas as pd  \n",
    "    \n",
    "# List1  \n",
    "Positions = titles\n",
    "    \n",
    "# List2  \n",
    "Companies = companies \n",
    "\n",
    "    \n",
    "# get the list of tuples from two lists.  \n",
    "# and merge them by using zip().  \n",
    "list_of_tuples = list(zip(Positions, Companies))  \n",
    "    \n",
    "# Assign data to tuples.  \n",
    "list_of_tuples   \n",
    "  \n",
    "  \n",
    "# Converting lists of tuples into  \n",
    "# pandas Dataframe.  \n",
    "df = pd.DataFrame(list_of_tuples, columns = ['Positions', 'Companies'])   "
   ]
  },
  {
   "cell_type": "code",
   "execution_count": 209,
   "metadata": {},
   "outputs": [],
   "source": [
    "df.to_csv ('Page1.csv', index = False, header=True)"
   ]
  },
  {
   "cell_type": "code",
   "execution_count": 137,
   "metadata": {},
   "outputs": [],
   "source": [
    "href_tags = soup.find_all(class_ ='page-numbers', href=True)"
   ]
  },
  {
   "cell_type": "code",
   "execution_count": 157,
   "metadata": {},
   "outputs": [
    {
     "name": "stdout",
     "output_type": "stream",
     "text": [
      "https://xpress.jobs/jobs?page=2&Sectors=30\n",
      "https://xpress.jobs/jobs?page=3&Sectors=30\n",
      "https://xpress.jobs/jobs?page=4&Sectors=30\n",
      "https://xpress.jobs/jobs?page=5&Sectors=30\n",
      "https://xpress.jobs/jobs?page=6&Sectors=30\n",
      "https://xpress.jobs/jobs?page=7&Sectors=30\n",
      "https://xpress.jobs/jobs?page=9&Sectors=30\n",
      "https://xpress.jobs/jobs?page=2&Sectors=30\n"
     ]
    }
   ],
   "source": [
    "# Extracting the links of next pages\n",
    "site = \"https://xpress.jobs\"\n",
    "for tag in href_tags:\n",
    "    tags = site + tag.get('href')\n",
    "    print(tags)"
   ]
  },
  {
   "cell_type": "code",
   "execution_count": 190,
   "metadata": {},
   "outputs": [],
   "source": [
    "Comp = soup.find_all(class_ = 'job_listing-company')"
   ]
  },
  {
   "cell_type": "code",
   "execution_count": 191,
   "metadata": {},
   "outputs": [],
   "source": [
    "Comp = [div.find(\"a\") for div in divs]"
   ]
  },
  {
   "cell_type": "code",
   "execution_count": 193,
   "metadata": {},
   "outputs": [
    {
     "name": "stdout",
     "output_type": "stream",
     "text": [
      "../../Organization/8062\n",
      "../../Organization/3798\n",
      "../../Organization/7535\n",
      "../../Organization/7972\n",
      "../../Organization/2058\n",
      "../../Organization/7821\n",
      "../../Organization/7535\n",
      "../../Organization/7535\n",
      "../../Organization/1688\n",
      "../../Organization/8241\n"
     ]
    }
   ],
   "source": [
    "for tag in Comp:\n",
    "    print(tag.get('href'))"
   ]
  },
  {
   "cell_type": "code",
   "execution_count": null,
   "metadata": {},
   "outputs": [],
   "source": []
  }
 ],
 "metadata": {
  "kernelspec": {
   "display_name": "Python 3",
   "language": "python",
   "name": "python3"
  },
  "language_info": {
   "codemirror_mode": {
    "name": "ipython",
    "version": 3
   },
   "file_extension": ".py",
   "mimetype": "text/x-python",
   "name": "python",
   "nbconvert_exporter": "python",
   "pygments_lexer": "ipython3",
   "version": "3.7.6"
  }
 },
 "nbformat": 4,
 "nbformat_minor": 4
}
